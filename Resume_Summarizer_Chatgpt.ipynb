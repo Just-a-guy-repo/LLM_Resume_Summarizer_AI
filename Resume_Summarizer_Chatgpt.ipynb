{
  "cells": [
    {
      "cell_type": "code",
      "execution_count": null,
      "metadata": {
        "id": "gK4LYAXhxgzj"
      },
      "outputs": [],
      "source": [
        "import os\n",
        "import sys\n",
        "\n",
        "import openai\n",
        "from langchain.chat_models import ChatOpenAI\n",
        "from langchain.indexes import VectorstoreIndexCreator\n",
        "from langchain.indexes.vectorstore import VectorStoreIndexWrapper\n",
        "from langchain.llms import OpenAI\n",
        "from langchain.vectorstores import Chroma\n",
        "from langchain.document_loaders import PyPDFLoader\n",
        "\n",
        "import constants\n",
        "\n",
        "os.environ[\"OPENAI_API_KEY\"] =  \"OPENAI_API_KEY\"\n",
        "\n",
        "loader = PyPDFLoader(\"Your resume\")\n",
        "\n",
        "index= VectorstoreIndexCreator().from_loaders([loader.load()])\n",
        "\n",
        "query= '''Summarize the resume and ouput content in Json Format'''\n",
        "\n",
        "print(index.query(query, llm=ChatOpenAI()))"
      ]
    }
  ],
  "metadata": {
    "colab": {
      "provenance": []
    },
    "kernelspec": {
      "display_name": "Python 3",
      "name": "python3"
    },
    "language_info": {
      "name": "python"
    }
  },
  "nbformat": 4,
  "nbformat_minor": 0
}
